{
  "nbformat": 4,
  "nbformat_minor": 0,
  "metadata": {
    "colab": {
      "name": "Copy of UnitTestCasesPython.ipynb",
      "version": "0.3.2",
      "provenance": [],
      "include_colab_link": true
    },
    "kernelspec": {
      "name": "python3",
      "display_name": "Python 3"
    }
  },
  "cells": [
    {
      "cell_type": "markdown",
      "metadata": {
        "id": "view-in-github",
        "colab_type": "text"
      },
      "source": [
        "<a href=\"https://colab.research.google.com/github/KushalVenkatesh/python_practise/blob/master/Copy_of_UnitTestCasesPython.ipynb\" target=\"_parent\"><img src=\"https://colab.research.google.com/assets/colab-badge.svg\" alt=\"Open In Colab\"/></a>"
      ]
    },
    {
      "metadata": {
        "id": "-Dg9HoEoRlYV",
        "colab_type": "code",
        "colab": {}
      },
      "cell_type": "code",
      "source": [
        "##Eg for doctest module\n",
        "# from doctest import testmod\n",
        "#\n",
        "# def func(x):\n",
        "#     '''\n",
        "#     >>> func(3)\n",
        "#     4\n",
        "#     '''\n",
        "#     return x+1\n",
        "#\n",
        "# if __name__ == '__main__':\n",
        "# testmod(name ='func', verbose = True)\n",
        "\n",
        "##Eg for unittest module\n",
        "# import unittest\n",
        "#\n",
        "# def func(x):\n",
        "#     return x+1\n",
        "#\n",
        "# class MyTest(unittest.TestCase):  #subclassing\n",
        "#     def test(self):\n",
        "#         self.assertEqual(func(3),4)\n",
        "#\n",
        "# if __name__=='__main__':\n",
        "#     unittest.main()\n",
        "\n",
        "#Eg for nose module\n",
        "# import nose\n",
        "# \n",
        "# def func(x):\n",
        "#    return x + 1\n",
        "# \n",
        "# def test_answer():\n",
        "#    assert func(3) == 4\n",
        "#nosetests -v Z7.py or nosetests Z7.py\n"
      ],
      "execution_count": 0,
      "outputs": []
    }
  ]
}