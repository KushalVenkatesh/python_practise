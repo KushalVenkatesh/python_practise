{
 "cells": [
  {
   "cell_type": "markdown",
   "metadata": {},
   "source": [
    "# Map, Filter and Reduce"
   ]
  },
  {
   "cell_type": "markdown",
   "metadata": {},
   "source": [
    ">Map applies a function to all the items in an input_list. Here is the blueprint:\n",
    "```python\n",
    "map(function_to_apply, list_of_inputs)\n",
    "```\n",
    ">for this instance:\n",
    "```python\n",
    "items = [1, 2, 3, 4, 5]\n",
    "squared = []\n",
    "for i in items:\n",
    "    squared.append(i**2)\n",
    "```\n",
    ">Map allows us to implement this in a much simpler and nicer way. Here you go:"
   ]
  },
  {
   "cell_type": "code",
   "execution_count": 1,
   "metadata": {},
   "outputs": [
    {
     "data": {
      "text/plain": [
       "[1, 4, 9, 16, 25]"
      ]
     },
     "execution_count": 1,
     "metadata": {},
     "output_type": "execute_result"
    }
   ],
   "source": [
    "items = [1,2,3,4,5]\n",
    "#map\n",
    "squared1 = list(map(lambda x: x**2, items))\n",
    "#List Comprehensions\n",
    "squared2 = [x**2 for x in items]\n",
    "#same function\n",
    "assert squared1 == squared2\n",
    "squared1"
   ]
  },
  {
   "cell_type": "markdown",
   "metadata": {},
   "source": [
    ">Most of the times we use lambdas with map so I did the same. Instead of a list of inputs we can even have a list of functions!"
   ]
  },
  {
   "cell_type": "code",
   "execution_count": 2,
   "metadata": {},
   "outputs": [
    {
     "data": {
      "text/plain": [
       "[[1, 2], [4, 4], [9, 6], [16, 8], [25, 10]]"
      ]
     },
     "execution_count": 2,
     "metadata": {},
     "output_type": "execute_result"
    }
   ],
   "source": [
    "def func1(x): return x**2\n",
    "def func2(x): return x*2\n",
    "squared3 = []\n",
    "#treat func1,func2 as elements of a list\n",
    "for x in items:\n",
    "    squared3.append(list(map(lambda f: f(x), [func1, func2])))\n",
    "squared3"
   ]
  },
  {
   "cell_type": "markdown",
   "metadata": {},
   "source": [
    "## Filter"
   ]
  },
  {
   "cell_type": "markdown",
   "metadata": {},
   "source": [
    ">As the name suggests, filter creates a list of elements for which a function returns true. Here is a short and concise example:"
   ]
  },
  {
   "cell_type": "code",
   "execution_count": 3,
   "metadata": {},
   "outputs": [
    {
     "data": {
      "text/plain": [
       "[1, 2, 3, 4]"
      ]
     },
     "execution_count": 3,
     "metadata": {},
     "output_type": "execute_result"
    }
   ],
   "source": [
    "number_list = range(-5, 5)\n",
    "#filter\n",
    "gt_zero1 = list(filter(lambda x: x>0, number_list))\n",
    "#list comprehensions\n",
    "gt_zero2 = [x for x in number_list if x>0]\n",
    "assert gt_zero1 == gt_zero2\n",
    "gt_zero1"
   ]
  },
  {
   "cell_type": "markdown",
   "metadata": {},
   "source": [
    ">The filter resembles a for loop but it is a builtin function and faster.\n",
    "\n",
    ">Note: If map & filter do not appear beautiful to you then you can read about list/dict/tuple comprehensions."
   ]
  },
  {
   "cell_type": "markdown",
   "metadata": {},
   "source": [
    "## Reduce\n",
    ">Reduce is a really useful function for performing some computation on a list and returning the result. It applies a rolling computation to sequential pairs of values in a list. For example, if you wanted to compute the product of a list of integers.\n",
    "\n",
    ">So the normal way you might go about doing this task in python is using a basic for loop:\n",
    "```python\n",
    "product = 1\n",
    "list = [1, 2, 3, 4]\n",
    "for num in list:\n",
    "    product = product * num\n",
    "```\n",
    "\n",
    ">Now let’s try it with reduce:"
   ]
  },
  {
   "cell_type": "code",
   "execution_count": 4,
   "metadata": {},
   "outputs": [
    {
     "data": {
      "text/plain": [
       "120"
      ]
     },
     "execution_count": 4,
     "metadata": {},
     "output_type": "execute_result"
    }
   ],
   "source": [
    "#reduce is not built-in function!\n",
    "from functools import reduce\n",
    "\n",
    "list = [1, 2, 3, 4, 5]\n",
    "#factorial by reduce\n",
    "factorial = reduce(lambda x,y: x*y, list)\n",
    "import math\n",
    "assert math.factorial(5) == factorial\n",
    "factorial"
   ]
  }
 ],
 "metadata": {
  "kernelspec": {
   "display_name": "Python 3",
   "language": "python",
   "name": "python3"
  },
  "language_info": {
   "codemirror_mode": {
    "name": "ipython",
    "version": 3
   },
   "file_extension": ".py",
   "mimetype": "text/x-python",
   "name": "python",
   "nbconvert_exporter": "python",
   "pygments_lexer": "ipython3",
   "version": "3.6.1"
  }
 },
 "nbformat": 4,
 "nbformat_minor": 2
}
